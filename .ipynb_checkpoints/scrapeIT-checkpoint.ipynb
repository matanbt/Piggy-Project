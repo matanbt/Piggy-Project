{
 "cells": [
  {
   "cell_type": "code",
   "execution_count": 39,
   "metadata": {},
   "outputs": [],
   "source": [
    "import news_scraping as ns\n",
    "from pandas import DataFrame,Series"
   ]
  },
  {
   "cell_type": "code",
   "execution_count": 20,
   "metadata": {},
   "outputs": [
    {
     "data": {
      "text/plain": [
       "(  Channel                                              Title  \\\n",
       " 0     BBC  Last-ditch talks on virus aid for US economy f...   \n",
       " 1     BBC  China, Russia and Iran 'undermining' US electi...   \n",
       " 2     BBC  Air India jet breaks in two in Kerala, killing...   \n",
       " 3     BBC  UN warns of humanitarian crisis after Beirut b...   \n",
       " 4     BBC  US imposes sanctions on Hong Kong chief execut...   \n",
       " 5     BBC  Coronavirus severely restricts Antarctic scien...   \n",
       " \n",
       "                                                 Tags  \n",
       " 0  (Nancy Pelosi, United States Senate, Coronavir...  \n",
       " 1  (US election 2020, Joe Biden, Russia, Iran, Ch...  \n",
       " 2  (Aviation safety, India, Air travel, Aviation ...  \n",
       " 3           (Beirut, Lebanon, Beirut port explosion)  \n",
       " 4  (Hong Kong anti-government protests, China, Un...  \n",
       " 5  (British Antarctic Survey, Earth science, Coro...  ,\n",
       "   Channel                                              Title           Tags\n",
       " 0     Sky  The three women on a 'mission' to take on Euro...  united states\n",
       " 1     Sky  Lebanon's president knew about explosives week...        lebanon\n",
       " 2     Sky  Chances of COVID vaccine being 98% effective a...  united states\n",
       " 3     Sky  At least 18 dead as plane breaks in two crash ...          india\n",
       " 4     Sky  Policeman tracks down man who shot him in the ...         mexico,\n",
       "     Channel                                              Title  \\\n",
       " 0  Guardian  Coronavirus live news  England extends use of ...   \n",
       " 1  Guardian  UK quarantine Just 10 enforcement orders issue...   \n",
       " 2  Guardian  Two stories, different witnesses So where was ...   \n",
       " 3  Guardian  Melbourne Army and police patrol the deserted ...   \n",
       " 4  Guardian  UK quarantine Just 10 enforcement orders issue...   \n",
       " \n",
       "                                                 Tags  \n",
       " 0  (Coronavirus outbreak, Coronavirus live, Infec...  \n",
       " 1  (Police, Coronavirus outbreak, Health policy, ...  \n",
       " 2   (Dominic Cummings, Coronavirus outbreak, Police)  \n",
       " 3  (Victoria, Coronavirus outbreak, Australian po...  \n",
       " 4  (Police, Coronavirus outbreak, Health policy, ...  )"
      ]
     },
     "execution_count": 20,
     "metadata": {},
     "output_type": "execute_result"
    }
   ],
   "source": [
    "df=ns.get_actual_data()\n",
    "out_df.to_csv(\"my.csv\")"
   ]
  },
  {
   "cell_type": "code",
   "execution_count": 37,
   "metadata": {},
   "outputs": [
    {
     "name": "stdout",
     "output_type": "stream",
     "text": [
      "0    Sky\n",
      "1    Sky\n",
      "2    Sky\n",
      "3    Sky\n",
      "4    Sky\n",
      "Name: 0, dtype: object\n"
     ]
    }
   ],
   "source": [
    "df_s=df[1]\n",
    "df_s=df_s.set_axis([0,1,2],axis=1)\n",
    "print(df_s[0])"
   ]
  },
  {
   "cell_type": "code",
   "execution_count": 58,
   "metadata": {},
   "outputs": [
    {
     "name": "stdout",
     "output_type": "stream",
     "text": [
      "Empty DataFrame\n",
      "Columns: []\n",
      "Index: []\n"
     ]
    }
   ],
   "source": [
    "out_df = DataFrame()\n",
    "print(out_df)\n",
    "out_df = out_df.append(Series([\"Guardian\", \"222\", \"3333\"]), ignore_index=True)\n",
    "out_df = out_df.append(Series([\"GGGG\", \"TTT\", \"YYY\"]), ignore_index=True)\n",
    "\n",
    "out_df.to_csv(\"my.csv\")"
   ]
  },
  {
   "cell_type": "code",
   "execution_count": null,
   "metadata": {},
   "outputs": [],
   "source": []
  }
 ],
 "metadata": {
  "kernelspec": {
   "display_name": "Python 3",
   "language": "python",
   "name": "python3"
  },
  "language_info": {
   "codemirror_mode": {
    "name": "ipython",
    "version": 3
   },
   "file_extension": ".py",
   "mimetype": "text/x-python",
   "name": "python",
   "nbconvert_exporter": "python",
   "pygments_lexer": "ipython3",
   "version": "3.8.5"
  }
 },
 "nbformat": 4,
 "nbformat_minor": 4
}
